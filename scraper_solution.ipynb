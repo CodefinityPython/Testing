{
  "cells": [
    {
      "cell_type": "code",
      "execution_count": null,
      "metadata": {},
      "outputs": [],
      "source": [
        "from tests import tests"
      ]
    },
    {
      "cell_type": "markdown",
      "metadata": {
        "id": "HaulFYFHTHLi"
      },
      "source": [
        "## The Requests Library"
      ]
    },
    {
      "cell_type": "code",
      "execution_count": null,
      "metadata": {
        "id": "n4v16zAOTPAa"
      },
      "outputs": [],
      "source": [
        "import requests\n",
        "\n",
        "url = \"https://www.scrapethissite.com/pages/simple/\"\n",
        "response = requests.get(url)\n",
        "html = response.text"
      ]
    },
    {
      "cell_type": "markdown",
      "metadata": {
        "id": "WEYSQcgVTkN6"
      },
      "source": [
        "## Parse the HTML Content Using BeautifulSoup"
      ]
    },
    {
      "cell_type": "code",
      "execution_count": null,
      "metadata": {
        "id": "AbbyW2e4Tm7y"
      },
      "outputs": [],
      "source": [
        "from bs4 import BeautifulSoup\n",
        "\n",
        "html = response.text\n",
        "\n",
        "soup = BeautifulSoup(html, \"html.parser\")\n",
        "\n",
        "soup"
      ]
    },
    {
      "cell_type": "markdown",
      "metadata": {
        "id": "OfhEZykPTuVq"
      },
      "source": [
        "## Extract the Desired Attribute"
      ]
    },
    {
      "cell_type": "code",
      "execution_count": null,
      "metadata": {
        "id": "FOKH3lkCTw0p"
      },
      "outputs": [],
      "source": [
        "soup = BeautifulSoup(html, \"html.parser\")\n",
        "\n",
        "soup.find_all(\"div\",{\"class\":\"col-md-4 country\"})[0] # First element\n",
        "\n",
        "soup.find_all(\"div\",{\"class\":\"col-md-4 country\"})[0].find_next() # First element inside "
      ]
    },
    {
      "cell_type": "markdown",
      "metadata": {
        "id": "JxfWNPMTUbtS"
      },
      "source": [
        "## Store scraped data into a Pandas Dataframe"
      ]
    },
    {
      "cell_type": "code",
      "execution_count": null,
      "metadata": {
        "id": "kcJi_J2EUgYy"
      },
      "outputs": [],
      "source": [
        "import pandas as pd\n",
        "\n",
        "col_names =  [\"Country\", \"Capital City\"]\n",
        "countries = pd.DataFrame(columns = col_names)\n",
        "\n",
        "for item in soup.find_all(\"div\",{\"class\":\"col-md-4 country\"}):\n",
        "  country_name = item.find_all(\"h3\", {\"class\":\"country-name\"})[0].text.lstrip().rstrip()\n",
        "  capital =  item.find_all(\"span\", {\"class\":\"country-capital\"})[0].text\n",
        "  countries.loc[len(countries)] = country_name, capital\n",
        "\n",
        "  \n",
        "countries"
      ]
    },
    {
      "cell_type": "markdown",
      "metadata": {
        "id": "IbF66YyHUrO7"
      },
      "source": [
        "## Include Other Informations in the Scraping Process"
      ]
    },
    {
      "cell_type": "code",
      "execution_count": null,
      "metadata": {
        "id": "lBoPuh21Uvox"
      },
      "outputs": [],
      "source": [
        "import pandas as pd\n",
        "\n",
        "col_names =  [\"Country\", \"Capital City\", \"Population\", \"Area\"]\n",
        "countries = pd.DataFrame(columns = col_names)\n",
        "\n",
        "for item in soup.find_all(\"div\",{\"class\":\"col-md-4 country\"}):\n",
        "  index = len(countries)\n",
        "  countries.loc[index, [\"Country\"]] = item.find_all(\"h3\", {\"class\":\"country-name\"})[0].text.lstrip().rstrip()\n",
        "  countries.loc[index, [\"Capital City\"]] = item.find_all(\"span\", {\"class\":\"country-capital\"})[0].text\n",
        "  countries.loc[index, [\"Population\"]] = item.find_all(\"span\", {\"class\":\"country-population\"})[0].text\n",
        "  countries.loc[index, [\"Area\"]] = item.find_all(\"span\", {\"class\":\"country-area\"})[0].text\n",
        "\n",
        "countries"
      ]
    },
    {
      "cell_type": "markdown",
      "metadata": {
        "id": "pWsUPO8cVHm7"
      },
      "source": [
        "## Regular Expressions"
      ]
    },
    {
      "cell_type": "code",
      "execution_count": null,
      "metadata": {
        "id": "QXNyMItfVJTh"
      },
      "outputs": [],
      "source": [
        "import re\n",
        "\n",
        "soup.find_all(\"h3\", {\"class\": re.compile(r\"country-name\")})\n",
        "\n",
        "soup.find_all(\"span\", {\"class\": re.compile(r\"country-capital\")})"
      ]
    }
  ],
  "metadata": {
    "colab": {
      "provenance": []
    },
    "kernelspec": {
      "display_name": "Python 3",
      "name": "python3"
    },
    "language_info": {
      "codemirror_mode": {
        "name": "ipython",
        "version": 3
      },
      "file_extension": ".py",
      "mimetype": "text/x-python",
      "name": "python",
      "nbconvert_exporter": "python",
      "pygments_lexer": "ipython3",
      "version": "3.11.5"
    }
  },
  "nbformat": 4,
  "nbformat_minor": 0
}
